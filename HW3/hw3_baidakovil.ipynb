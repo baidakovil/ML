{
 "cells": [
  {
   "cell_type": "markdown",
   "metadata": {},
   "source": [
    "## Домашнее задание 3: kNN. Линейные модели. Работа с признаками"
   ]
  },
  {
   "cell_type": "markdown",
   "metadata": {},
   "source": [
    "Правила:\n",
    "\n",
    "* Домашнее задание оценивается в 10 баллов.\n",
    "\n",
    "* Можно использовать без доказательства любые результаты, встречавшиеся на лекциях или семинарах по курсу, если получение этих результатов не является вопросом задания.\n",
    "\n",
    "* Можно использовать любые свободные источники с *обязательным* указанием ссылки на них.\n",
    "\n",
    "* Плагиат не допускается. При обнаружении случаев списывания, 0 за работу выставляется всем участникам нарушения, даже если можно установить, кто у кого списал.\n",
    "\n",
    "* Старайтесь сделать код как можно более оптимальным. В частности, будет штрафоваться использование циклов в тех случаях, когда операцию можно совершить при помощи инструментов библиотек, о которых рассказывалось в курсе.  \n",
    "\n",
    "**Пункты 1 и 3 при полном верном решении затем нормируются в 10-балльную шкалу.\n",
    "Бонус учитывается отдельно.**"
   ]
  },
  {
   "cell_type": "markdown",
   "metadata": {},
   "source": [
    "### Задание 1:  Визуализация решающих поверхностей в kNN.\n",
    "\n",
    "Прочтите [статью](https://) про метод ближайших соседей. "
   ]
  },
  {
   "cell_type": "markdown",
   "metadata": {},
   "source": [
    "В этом задании мы изобразим решающую поверхность для классификатора kNN, чтобы наглядно увидеть, как классификатор принимает решения для новых объектов. Для простоты будем работать со встроенным в `sklearn` набором данных `wine`, содержащим информацию о характеристиках трёх видов вина. Описание набора можно найти [здесь](https://scikit-learn.org/stable/modules/generated/sklearn.datasets.load_wine.html#sklearn.datasets.load_wine) и [здесь](https://rdrr.io/cran/rattle.data/man/wine.html). "
   ]
  },
  {
   "cell_type": "markdown",
   "metadata": {},
   "source": [
    "Загрузим набор данных и сохраним информацию о признаках в переменную `X`, а о зависимой переменной – в переменную `y`."
   ]
  },
  {
   "cell_type": "code",
   "execution_count": 1,
   "metadata": {},
   "outputs": [],
   "source": [
    "import numpy as np\n",
    "import pandas as pd\n",
    "import matplotlib.pyplot as plt"
   ]
  },
  {
   "cell_type": "code",
   "execution_count": 2,
   "metadata": {},
   "outputs": [
    {
     "data": {
      "text/html": [
       "<div>\n",
       "<style scoped>\n",
       "    .dataframe tbody tr th:only-of-type {\n",
       "        vertical-align: middle;\n",
       "    }\n",
       "\n",
       "    .dataframe tbody tr th {\n",
       "        vertical-align: top;\n",
       "    }\n",
       "\n",
       "    .dataframe thead th {\n",
       "        text-align: right;\n",
       "    }\n",
       "</style>\n",
       "<table border=\"1\" class=\"dataframe\">\n",
       "  <thead>\n",
       "    <tr style=\"text-align: right;\">\n",
       "      <th></th>\n",
       "      <th>alcohol</th>\n",
       "      <th>malic_acid</th>\n",
       "      <th>ash</th>\n",
       "      <th>alcalinity_of_ash</th>\n",
       "      <th>magnesium</th>\n",
       "      <th>total_phenols</th>\n",
       "      <th>flavanoids</th>\n",
       "      <th>nonflavanoid_phenols</th>\n",
       "      <th>proanthocyanins</th>\n",
       "      <th>color_intensity</th>\n",
       "      <th>hue</th>\n",
       "      <th>od280/od315_of_diluted_wines</th>\n",
       "      <th>proline</th>\n",
       "    </tr>\n",
       "  </thead>\n",
       "  <tbody>\n",
       "    <tr>\n",
       "      <th>0</th>\n",
       "      <td>14.23</td>\n",
       "      <td>1.71</td>\n",
       "      <td>2.43</td>\n",
       "      <td>15.6</td>\n",
       "      <td>127.0</td>\n",
       "      <td>2.80</td>\n",
       "      <td>3.06</td>\n",
       "      <td>0.28</td>\n",
       "      <td>2.29</td>\n",
       "      <td>5.64</td>\n",
       "      <td>1.04</td>\n",
       "      <td>3.92</td>\n",
       "      <td>1065.0</td>\n",
       "    </tr>\n",
       "    <tr>\n",
       "      <th>1</th>\n",
       "      <td>13.20</td>\n",
       "      <td>1.78</td>\n",
       "      <td>2.14</td>\n",
       "      <td>11.2</td>\n",
       "      <td>100.0</td>\n",
       "      <td>2.65</td>\n",
       "      <td>2.76</td>\n",
       "      <td>0.26</td>\n",
       "      <td>1.28</td>\n",
       "      <td>4.38</td>\n",
       "      <td>1.05</td>\n",
       "      <td>3.40</td>\n",
       "      <td>1050.0</td>\n",
       "    </tr>\n",
       "    <tr>\n",
       "      <th>2</th>\n",
       "      <td>13.16</td>\n",
       "      <td>2.36</td>\n",
       "      <td>2.67</td>\n",
       "      <td>18.6</td>\n",
       "      <td>101.0</td>\n",
       "      <td>2.80</td>\n",
       "      <td>3.24</td>\n",
       "      <td>0.30</td>\n",
       "      <td>2.81</td>\n",
       "      <td>5.68</td>\n",
       "      <td>1.03</td>\n",
       "      <td>3.17</td>\n",
       "      <td>1185.0</td>\n",
       "    </tr>\n",
       "    <tr>\n",
       "      <th>3</th>\n",
       "      <td>14.37</td>\n",
       "      <td>1.95</td>\n",
       "      <td>2.50</td>\n",
       "      <td>16.8</td>\n",
       "      <td>113.0</td>\n",
       "      <td>3.85</td>\n",
       "      <td>3.49</td>\n",
       "      <td>0.24</td>\n",
       "      <td>2.18</td>\n",
       "      <td>7.80</td>\n",
       "      <td>0.86</td>\n",
       "      <td>3.45</td>\n",
       "      <td>1480.0</td>\n",
       "    </tr>\n",
       "    <tr>\n",
       "      <th>4</th>\n",
       "      <td>13.24</td>\n",
       "      <td>2.59</td>\n",
       "      <td>2.87</td>\n",
       "      <td>21.0</td>\n",
       "      <td>118.0</td>\n",
       "      <td>2.80</td>\n",
       "      <td>2.69</td>\n",
       "      <td>0.39</td>\n",
       "      <td>1.82</td>\n",
       "      <td>4.32</td>\n",
       "      <td>1.04</td>\n",
       "      <td>2.93</td>\n",
       "      <td>735.0</td>\n",
       "    </tr>\n",
       "    <tr>\n",
       "      <th>5</th>\n",
       "      <td>14.20</td>\n",
       "      <td>1.76</td>\n",
       "      <td>2.45</td>\n",
       "      <td>15.2</td>\n",
       "      <td>112.0</td>\n",
       "      <td>3.27</td>\n",
       "      <td>3.39</td>\n",
       "      <td>0.34</td>\n",
       "      <td>1.97</td>\n",
       "      <td>6.75</td>\n",
       "      <td>1.05</td>\n",
       "      <td>2.85</td>\n",
       "      <td>1450.0</td>\n",
       "    </tr>\n",
       "    <tr>\n",
       "      <th>6</th>\n",
       "      <td>14.39</td>\n",
       "      <td>1.87</td>\n",
       "      <td>2.45</td>\n",
       "      <td>14.6</td>\n",
       "      <td>96.0</td>\n",
       "      <td>2.50</td>\n",
       "      <td>2.52</td>\n",
       "      <td>0.30</td>\n",
       "      <td>1.98</td>\n",
       "      <td>5.25</td>\n",
       "      <td>1.02</td>\n",
       "      <td>3.58</td>\n",
       "      <td>1290.0</td>\n",
       "    </tr>\n",
       "    <tr>\n",
       "      <th>7</th>\n",
       "      <td>14.06</td>\n",
       "      <td>2.15</td>\n",
       "      <td>2.61</td>\n",
       "      <td>17.6</td>\n",
       "      <td>121.0</td>\n",
       "      <td>2.60</td>\n",
       "      <td>2.51</td>\n",
       "      <td>0.31</td>\n",
       "      <td>1.25</td>\n",
       "      <td>5.05</td>\n",
       "      <td>1.06</td>\n",
       "      <td>3.58</td>\n",
       "      <td>1295.0</td>\n",
       "    </tr>\n",
       "  </tbody>\n",
       "</table>\n",
       "</div>"
      ],
      "text/plain": [
       "   alcohol  malic_acid   ash  alcalinity_of_ash  magnesium  total_phenols  \\\n",
       "0    14.23        1.71  2.43               15.6      127.0           2.80   \n",
       "1    13.20        1.78  2.14               11.2      100.0           2.65   \n",
       "2    13.16        2.36  2.67               18.6      101.0           2.80   \n",
       "3    14.37        1.95  2.50               16.8      113.0           3.85   \n",
       "4    13.24        2.59  2.87               21.0      118.0           2.80   \n",
       "5    14.20        1.76  2.45               15.2      112.0           3.27   \n",
       "6    14.39        1.87  2.45               14.6       96.0           2.50   \n",
       "7    14.06        2.15  2.61               17.6      121.0           2.60   \n",
       "\n",
       "   flavanoids  nonflavanoid_phenols  proanthocyanins  color_intensity   hue  \\\n",
       "0        3.06                  0.28             2.29             5.64  1.04   \n",
       "1        2.76                  0.26             1.28             4.38  1.05   \n",
       "2        3.24                  0.30             2.81             5.68  1.03   \n",
       "3        3.49                  0.24             2.18             7.80  0.86   \n",
       "4        2.69                  0.39             1.82             4.32  1.04   \n",
       "5        3.39                  0.34             1.97             6.75  1.05   \n",
       "6        2.52                  0.30             1.98             5.25  1.02   \n",
       "7        2.51                  0.31             1.25             5.05  1.06   \n",
       "\n",
       "   od280/od315_of_diluted_wines  proline  \n",
       "0                          3.92   1065.0  \n",
       "1                          3.40   1050.0  \n",
       "2                          3.17   1185.0  \n",
       "3                          3.45   1480.0  \n",
       "4                          2.93    735.0  \n",
       "5                          2.85   1450.0  \n",
       "6                          3.58   1290.0  \n",
       "7                          3.58   1295.0  "
      ]
     },
     "execution_count": 2,
     "metadata": {},
     "output_type": "execute_result"
    }
   ],
   "source": [
    "from sklearn.datasets import load_wine\n",
    "\n",
    "data = load_wine()\n",
    "X = pd.DataFrame(data['data'], columns = data['feature_names'])\n",
    "y = data['target']\n",
    "X.head(8)"
   ]
  },
  {
   "cell_type": "markdown",
   "metadata": {},
   "source": [
    "**Задача 1.1 (0.5 балла)** Есть ли в наборе данных пропущенные значения? Если да, то удалите их. Есть ли в наборе данных категориальные переменные? Если да, то закодируйте их при помощи OneHot-кодирования."
   ]
  },
  {
   "cell_type": "code",
   "execution_count": 3,
   "metadata": {},
   "outputs": [
    {
     "data": {
      "text/plain": [
       "alcohol                         0\n",
       "malic_acid                      0\n",
       "ash                             0\n",
       "alcalinity_of_ash               0\n",
       "magnesium                       0\n",
       "total_phenols                   0\n",
       "flavanoids                      0\n",
       "nonflavanoid_phenols            0\n",
       "proanthocyanins                 0\n",
       "color_intensity                 0\n",
       "hue                             0\n",
       "od280/od315_of_diluted_wines    0\n",
       "proline                         0\n",
       "dtype: int64"
      ]
     },
     "execution_count": 3,
     "metadata": {},
     "output_type": "execute_result"
    }
   ],
   "source": [
    "#нет пропущенных значений\n",
    "X.isnull().sum()"
   ]
  },
  {
   "cell_type": "code",
   "execution_count": 4,
   "metadata": {},
   "outputs": [
    {
     "data": {
      "text/plain": [
       "alcohol                         float64\n",
       "malic_acid                      float64\n",
       "ash                             float64\n",
       "alcalinity_of_ash               float64\n",
       "magnesium                       float64\n",
       "total_phenols                   float64\n",
       "flavanoids                      float64\n",
       "nonflavanoid_phenols            float64\n",
       "proanthocyanins                 float64\n",
       "color_intensity                 float64\n",
       "hue                             float64\n",
       "od280/od315_of_diluted_wines    float64\n",
       "proline                         float64\n",
       "dtype: object"
      ]
     },
     "execution_count": 4,
     "metadata": {},
     "output_type": "execute_result"
    }
   ],
   "source": [
    "#нет категориальных переменных\n",
    "X.dtypes"
   ]
  },
  {
   "cell_type": "markdown",
   "metadata": {},
   "source": [
    "**Задача 1.2 (0.5 балла)** Используя функцию `train_test_split()`, разделите выборку на тренировочную и тестовую, и долю тестовой выборки задайте равной 0.3. Так как разбиение осуществляется случайным образом, не забудьте зафиксировать `np.random.seed()` для воспроизводимости результатов."
   ]
  },
  {
   "cell_type": "code",
   "execution_count": 5,
   "metadata": {},
   "outputs": [],
   "source": [
    "from sklearn.model_selection import train_test_split\n",
    "\n",
    "np.random.seed(0)\n",
    "X_train, X_test, y_train, y_test = train_test_split(X, y, test_size=0.3)"
   ]
  },
  {
   "cell_type": "markdown",
   "metadata": {},
   "source": [
    "**Задача 1.3 (1 балл)** На тренировочной выборке обучите шесть классификаторов kNN, отличающихся только числом соседей. Для первого классификатора число соседей поставьте равным 1, для второго - 3, для третьего – 5, для четвертого – 10, для пятого – 15 и для шестого – 25 (обратите внимание на параметр `n_neighbours` класса `KNeighborsClassifier`). Для обучения используйте только два признака: `alcohol` и `magnesium` – и евклидово расстояние. Не забудьте масштабировать признаки, например, при помощи модуля `StandardScaler`.\n",
    "\n",
    "Выведите долю правильных ответов на тренировочной и тестовой выборках для каждого классификатора."
   ]
  },
  {
   "cell_type": "code",
   "execution_count": 6,
   "metadata": {},
   "outputs": [],
   "source": [
    "# масштабируем признаки\n",
    "from sklearn.preprocessing import StandardScaler\n",
    "\n",
    "scaler = StandardScaler()\n",
    "\n",
    "interest_columns = ['alcohol','magnesium']\n",
    "\n",
    "scaler.fit(X_train[interest_columns])\n",
    "\n",
    "X_train[interest_columns] = scaler.transform(X_train[interest_columns])\n",
    "X_test[interest_columns] = scaler.transform(X_test[interest_columns])"
   ]
  },
  {
   "cell_type": "code",
   "execution_count": 7,
   "metadata": {},
   "outputs": [
    {
     "name": "stdout",
     "output_type": "stream",
     "text": [
      "Доля правильных ответов для каждого классификатора:\n",
      "N_neighbors = 1, train accuracy = 1.0, test accuracy = 0.667\n",
      "N_neighbors = 3, train accuracy = 0.806, test accuracy = 0.778\n",
      "N_neighbors = 5, train accuracy = 0.75, test accuracy = 0.722\n",
      "N_neighbors = 10, train accuracy = 0.734, test accuracy = 0.778\n",
      "N_neighbors = 15, train accuracy = 0.734, test accuracy = 0.796\n",
      "N_neighbors = 25, train accuracy = 0.669, test accuracy = 0.796\n"
     ]
    }
   ],
   "source": [
    "from sklearn.neighbors import KNeighborsClassifier\n",
    "from sklearn.metrics import accuracy_score\n",
    "\n",
    "#обученные классификаторы будем сохранять в датафрейм\n",
    "parameter = [1,3,5,10,15,25]\n",
    "pred_train = pd.DataFrame(columns = parameter)\n",
    "\n",
    "print('Доля правильных ответов для каждого классификатора:')\n",
    "models = list()\n",
    "\n",
    "for i in range(0, 6):\n",
    "    n_n_value = parameter[i]\n",
    "\n",
    "    model = KNeighborsClassifier(n_neighbors=n_n_value, metric='euclidean')\n",
    "    \n",
    "    #сохраним классификаторы в список\n",
    "    models.append(model.fit(X_train[interest_columns].to_numpy(), y_train))\n",
    "\n",
    "    pred_train[n_n_value] = model.predict(X_train[interest_columns].to_numpy())\n",
    "    pred_test = model.predict(X_test[interest_columns].to_numpy())\n",
    "\n",
    "    print(f'N_neighbors = {n_n_value}, train accuracy = {accuracy_score(pred_train[n_n_value], y_train):.3}, test accuracy = {accuracy_score(pred_test, y_test):.3}')"
   ]
  },
  {
   "cell_type": "markdown",
   "metadata": {},
   "source": [
    "**Задача 1.4 (0 баллов)** Установите библиотеку `mlxtend` командой ниже. Библиотеку также можно установить из терминала при помощи `pip` или `conda`, как указано [здесь](http://rasbt.github.io/mlxtend/installation/). "
   ]
  },
  {
   "cell_type": "markdown",
   "metadata": {},
   "source": [
    "Если всё прошло успешно, то в выводе команды выше вы увидите сообщение вроде \"successfully installed\", а следующая ячейка выполнится без ошибок."
   ]
  },
  {
   "cell_type": "code",
   "execution_count": 8,
   "metadata": {},
   "outputs": [],
   "source": [
    "import mlxtend"
   ]
  },
  {
   "cell_type": "markdown",
   "metadata": {},
   "source": [
    "**Задача 1.5 (1 балл)** Библиотека `mlxtend` позволяет достаточно просто визуализировать решающие поверхности обученных классификаторов. Изучите [документацию](http://rasbt.github.io/mlxtend/user_guide/plotting/plot_decision_regions/) библиотеки и найдите, как можно построить несколько графиков решающих поверхностей на сетке (decision regions grid). Постройте такую сетку графиков для обученных выше классификаторов.\n",
    "\n",
    "**Подсказки:**\n",
    "1. Вы можете использовать готовый код, приведённый в документации, и адаптировать его для нашего случая.\n",
    "2. Вам могут понадобиться дополнительные библиотеки, которые используются в примере из документации.\n",
    "3. Обратите внимание на то, как нужно изменить параметры `gridspec.GridSpec()` и `itertools.product()` для нашего числа классификаторов. \n",
    "4. В функции `plot_decision_region()` используйте `y_train` и нужные столбцы из `X_train`. Возможно, их придётся перевести в формат массива `numpy`.\n",
    "5. Если в задаче 1.3 вы сохраните обученные классификаторы в список, то не будет необходимости обучать их заново. \n",
    "6. Построение графика может занять некоторое время – придётся немного подождать!"
   ]
  },
  {
   "cell_type": "code",
   "execution_count": 9,
   "metadata": {},
   "outputs": [
    {
     "data": {
      "image/png": "[encoded data removed]",
      "text/plain": [
       "<Figure size 720x648 with 6 Axes>"
      ]
     },
     "metadata": {
      "needs_background": "light"
     },
     "output_type": "display_data"
    }
   ],
   "source": [
    "from mlxtend.plotting import plot_decision_regions\n",
    "import matplotlib.gridspec as gridspec\n",
    "import itertools\n",
    "\n",
    "gs = gridspec.GridSpec(2, 3)\n",
    "fig = plt.figure(figsize=(10, 9))\n",
    "\n",
    "labels = parameter\n",
    "place = [i for i in itertools.product([0, 1, 2], repeat=2)]\n",
    "X = X_train[interest_columns].to_numpy()\n",
    "\n",
    "for clf, lab, grd in zip(models,\n",
    "                         labels,\n",
    "                         place[:6]):\n",
    "    ax = plt.subplot(gs[grd[0], grd[1]])\n",
    "    fig = plot_decision_regions(X=X, y=y_train,\n",
    "                                clf=clf, legend=2)\n",
    "    plt.title(lab)\n",
    "\n",
    "plt.show()\n"
   ]
  },
  {
   "cell_type": "markdown",
   "metadata": {},
   "source": [
    "**Задача 1.6 (0.5 балла)** Прокомментируйте результаты, полученные в задачах 1.3 и 1.5. Какое число соседей оптимально использовать для обучения классификатора? Поясните ваш выбор при помощи описания геометрии данных и получаемой решающей поверхности."
   ]
  },
  {
   "cell_type": "markdown",
   "metadata": {},
   "source": [
    "Прокомментируйте результаты, полученные в задачах 1.3 и 1.5\n",
    "\n",
    "1. При k=1 на тестовой выборке accuracy_score алгоритма равна единице - этого следовало ожидать из логики работы KNN классификатора.\n",
    "2. Accuracy_score на тесте и трейне отличаются на +4%...-16% - сильно и в обе стороны. Особенность алгоритма.\n",
    "\n",
    "Какое число соседей оптимально использовать для обучения классификатора?\n",
    "k=10 оптимально. \n",
    "Пояснение: Посмотрим на график с k=1, k=3, k=5. Поверхности сильно искривлены, вогнуты друг в друга, имеют \"островки\", сооветствующие отдельным точкам. Это признак переобучения, что подтверждается более низким значением accuracy_score по сравнению с k=10, k=15, k=25. Выбирая между последними тремя, останавливаюсь на k=10 из-за более гладкой формы решающей поверхности в верхней и нижней части графика."
   ]
  },
  {
   "cell_type": "markdown",
   "metadata": {},
   "source": [
    "### Задание 3: Линейная регрессия."
   ]
  },
  {
   "cell_type": "markdown",
   "metadata": {},
   "source": [
    "В этом задании мы рассмотрим различные аспекты построения линейной модели. Мы будем работать с одним из классических наборов данных, содержащих информацию об автомобилях и их стоимости."
   ]
  },
  {
   "cell_type": "code",
   "execution_count": 10,
   "metadata": {},
   "outputs": [
    {
     "data": {
      "text/html": [
       "<div>\n",
       "<style scoped>\n",
       "    .dataframe tbody tr th:only-of-type {\n",
       "        vertical-align: middle;\n",
       "    }\n",
       "\n",
       "    .dataframe tbody tr th {\n",
       "        vertical-align: top;\n",
       "    }\n",
       "\n",
       "    .dataframe thead th {\n",
       "        text-align: right;\n",
       "    }\n",
       "</style>\n",
       "<table border=\"1\" class=\"dataframe\">\n",
       "  <thead>\n",
       "    <tr style=\"text-align: right;\">\n",
       "      <th></th>\n",
       "      <th>symboling</th>\n",
       "      <th>normalized-losses</th>\n",
       "      <th>make</th>\n",
       "      <th>fuel-type</th>\n",
       "      <th>aspiration</th>\n",
       "      <th>num-of-doors</th>\n",
       "      <th>body-style</th>\n",
       "      <th>drive-wheels</th>\n",
       "      <th>engine-location</th>\n",
       "      <th>wheel-base</th>\n",
       "      <th>...</th>\n",
       "      <th>engine-size</th>\n",
       "      <th>fuel-system</th>\n",
       "      <th>bore</th>\n",
       "      <th>stroke</th>\n",
       "      <th>compression-ratio</th>\n",
       "      <th>horsepower</th>\n",
       "      <th>peak-rpm</th>\n",
       "      <th>city-mpg</th>\n",
       "      <th>highway-mpg</th>\n",
       "      <th>price</th>\n",
       "    </tr>\n",
       "  </thead>\n",
       "  <tbody>\n",
       "    <tr>\n",
       "      <th>0</th>\n",
       "      <td>3</td>\n",
       "      <td>NaN</td>\n",
       "      <td>alfa-romero</td>\n",
       "      <td>gas</td>\n",
       "      <td>std</td>\n",
       "      <td>two</td>\n",
       "      <td>convertible</td>\n",
       "      <td>rwd</td>\n",
       "      <td>front</td>\n",
       "      <td>88.6</td>\n",
       "      <td>...</td>\n",
       "      <td>130</td>\n",
       "      <td>mpfi</td>\n",
       "      <td>3.47</td>\n",
       "      <td>2.68</td>\n",
       "      <td>9.0</td>\n",
       "      <td>111.0</td>\n",
       "      <td>5000.0</td>\n",
       "      <td>21</td>\n",
       "      <td>27</td>\n",
       "      <td>13495.0</td>\n",
       "    </tr>\n",
       "    <tr>\n",
       "      <th>1</th>\n",
       "      <td>3</td>\n",
       "      <td>NaN</td>\n",
       "      <td>alfa-romero</td>\n",
       "      <td>gas</td>\n",
       "      <td>std</td>\n",
       "      <td>two</td>\n",
       "      <td>convertible</td>\n",
       "      <td>rwd</td>\n",
       "      <td>front</td>\n",
       "      <td>88.6</td>\n",
       "      <td>...</td>\n",
       "      <td>130</td>\n",
       "      <td>mpfi</td>\n",
       "      <td>3.47</td>\n",
       "      <td>2.68</td>\n",
       "      <td>9.0</td>\n",
       "      <td>111.0</td>\n",
       "      <td>5000.0</td>\n",
       "      <td>21</td>\n",
       "      <td>27</td>\n",
       "      <td>16500.0</td>\n",
       "    </tr>\n",
       "    <tr>\n",
       "      <th>2</th>\n",
       "      <td>1</td>\n",
       "      <td>NaN</td>\n",
       "      <td>alfa-romero</td>\n",
       "      <td>gas</td>\n",
       "      <td>std</td>\n",
       "      <td>two</td>\n",
       "      <td>hatchback</td>\n",
       "      <td>rwd</td>\n",
       "      <td>front</td>\n",
       "      <td>94.5</td>\n",
       "      <td>...</td>\n",
       "      <td>152</td>\n",
       "      <td>mpfi</td>\n",
       "      <td>2.68</td>\n",
       "      <td>3.47</td>\n",
       "      <td>9.0</td>\n",
       "      <td>154.0</td>\n",
       "      <td>5000.0</td>\n",
       "      <td>19</td>\n",
       "      <td>26</td>\n",
       "      <td>16500.0</td>\n",
       "    </tr>\n",
       "    <tr>\n",
       "      <th>3</th>\n",
       "      <td>2</td>\n",
       "      <td>164.0</td>\n",
       "      <td>audi</td>\n",
       "      <td>gas</td>\n",
       "      <td>std</td>\n",
       "      <td>four</td>\n",
       "      <td>sedan</td>\n",
       "      <td>fwd</td>\n",
       "      <td>front</td>\n",
       "      <td>99.8</td>\n",
       "      <td>...</td>\n",
       "      <td>109</td>\n",
       "      <td>mpfi</td>\n",
       "      <td>3.19</td>\n",
       "      <td>3.40</td>\n",
       "      <td>10.0</td>\n",
       "      <td>102.0</td>\n",
       "      <td>5500.0</td>\n",
       "      <td>24</td>\n",
       "      <td>30</td>\n",
       "      <td>13950.0</td>\n",
       "    </tr>\n",
       "    <tr>\n",
       "      <th>4</th>\n",
       "      <td>2</td>\n",
       "      <td>164.0</td>\n",
       "      <td>audi</td>\n",
       "      <td>gas</td>\n",
       "      <td>std</td>\n",
       "      <td>four</td>\n",
       "      <td>sedan</td>\n",
       "      <td>4wd</td>\n",
       "      <td>front</td>\n",
       "      <td>99.4</td>\n",
       "      <td>...</td>\n",
       "      <td>136</td>\n",
       "      <td>mpfi</td>\n",
       "      <td>3.19</td>\n",
       "      <td>3.40</td>\n",
       "      <td>8.0</td>\n",
       "      <td>115.0</td>\n",
       "      <td>5500.0</td>\n",
       "      <td>18</td>\n",
       "      <td>22</td>\n",
       "      <td>17450.0</td>\n",
       "    </tr>\n",
       "  </tbody>\n",
       "</table>\n",
       "<p>5 rows × 26 columns</p>\n",
       "</div>"
      ],
      "text/plain": [
       "   symboling  normalized-losses         make fuel-type aspiration  \\\n",
       "0          3                NaN  alfa-romero       gas        std   \n",
       "1          3                NaN  alfa-romero       gas        std   \n",
       "2          1                NaN  alfa-romero       gas        std   \n",
       "3          2              164.0         audi       gas        std   \n",
       "4          2              164.0         audi       gas        std   \n",
       "\n",
       "  num-of-doors   body-style drive-wheels engine-location  wheel-base  ...  \\\n",
       "0          two  convertible          rwd           front        88.6  ...   \n",
       "1          two  convertible          rwd           front        88.6  ...   \n",
       "2          two    hatchback          rwd           front        94.5  ...   \n",
       "3         four        sedan          fwd           front        99.8  ...   \n",
       "4         four        sedan          4wd           front        99.4  ...   \n",
       "\n",
       "   engine-size  fuel-system  bore  stroke compression-ratio horsepower  \\\n",
       "0          130         mpfi  3.47    2.68               9.0      111.0   \n",
       "1          130         mpfi  3.47    2.68               9.0      111.0   \n",
       "2          152         mpfi  2.68    3.47               9.0      154.0   \n",
       "3          109         mpfi  3.19    3.40              10.0      102.0   \n",
       "4          136         mpfi  3.19    3.40               8.0      115.0   \n",
       "\n",
       "   peak-rpm city-mpg  highway-mpg    price  \n",
       "0    5000.0       21           27  13495.0  \n",
       "1    5000.0       21           27  16500.0  \n",
       "2    5000.0       19           26  16500.0  \n",
       "3    5500.0       24           30  13950.0  \n",
       "4    5500.0       18           22  17450.0  \n",
       "\n",
       "[5 rows x 26 columns]"
      ]
     },
     "execution_count": 10,
     "metadata": {},
     "output_type": "execute_result"
    }
   ],
   "source": [
    "data = pd.read_csv('Automobile.csv', na_values = ['?'])\n",
    "data.head(5)"
   ]
  },
  {
   "cell_type": "markdown",
   "metadata": {},
   "source": [
    "Мы будем решать задачу предсказания стоимости автомобиля `price` в зависимости от его характеристик."
   ]
  },
  {
   "cell_type": "markdown",
   "metadata": {},
   "source": [
    "**Задача 3.1 (0.1 балла)** Есть ли в наборе данных пропущенные значения? Обработайте их любым способом.\n",
    "\n",
    "* если пропусков в столбце мало, можете удалить их\n",
    "* если пропусков много, лучше заполнить их средним значением или медианой (по столбцу)."
   ]
  },
  {
   "cell_type": "code",
   "execution_count": 11,
   "metadata": {},
   "outputs": [],
   "source": [
    "#для normalized-losses заполним пропуски медианой\n",
    "data['normalized-losses'].fillna(data['normalized-losses'].median(), inplace=True)"
   ]
  },
  {
   "cell_type": "code",
   "execution_count": 12,
   "metadata": {},
   "outputs": [],
   "source": [
    "#для остальных удалим\n",
    "data.dropna(inplace = True)"
   ]
  },
  {
   "cell_type": "markdown",
   "metadata": {},
   "source": [
    "**Задача 3.2 (0.1 балла)** Есть ли в наборе данных бессмысленные столбцы (признаки, не несущие дополнительной информации)? Если да, то удалите их."
   ]
  },
  {
   "cell_type": "code",
   "execution_count": 13,
   "metadata": {},
   "outputs": [],
   "source": [
    "#не найдено бессмысленных"
   ]
  },
  {
   "cell_type": "markdown",
   "metadata": {},
   "source": [
    "**Задача 3.3 (0.1 балла)** Постройте матрицу корреляций.\n",
    "\n",
    "Какие вещественные признаки коррелируют с целевой переменной больше всего?"
   ]
  },
  {
   "cell_type": "code",
   "execution_count": 14,
   "metadata": {},
   "outputs": [
    {
     "data": {
      "text/plain": [
       "highway-mpg         -0.719178\n",
       "city-mpg            -0.706618\n",
       "peak-rpm            -0.103835\n",
       "symboling           -0.084835\n",
       "compression-ratio    0.074483\n",
       "stroke               0.096007\n",
       "normalized-losses    0.097696\n",
       "height               0.136234\n",
       "bore                 0.546295\n",
       "wheel-base           0.584951\n",
       "length               0.695928\n",
       "width                0.754649\n",
       "horsepower           0.812453\n",
       "curb-weight          0.835368\n",
       "engine-size          0.888778\n",
       "price                1.000000\n",
       "Name: price, dtype: float64"
      ]
     },
     "execution_count": 14,
     "metadata": {},
     "output_type": "execute_result"
    }
   ],
   "source": [
    "data.corr().loc['price'].sort_values()\n",
    "\n",
    "#Сильнее всего коррелируют:\n",
    "# потребление топлива (highway-mpg, city-mpg)\n",
    "# размер двигателя (engine-size)\n",
    "# масса (curb-weight)\n",
    "# мощность (horsepower)\n",
    "# ширина и длина (length, width)"
   ]
  },
  {
   "cell_type": "code",
   "execution_count": 15,
   "metadata": {},
   "outputs": [
    {
     "data": {
      "text/html": [
       "<div>\n",
       "<style scoped>\n",
       "    .dataframe tbody tr th:only-of-type {\n",
       "        vertical-align: middle;\n",
       "    }\n",
       "\n",
       "    .dataframe tbody tr th {\n",
       "        vertical-align: top;\n",
       "    }\n",
       "\n",
       "    .dataframe thead th {\n",
       "        text-align: right;\n",
       "    }\n",
       "</style>\n",
       "<table border=\"1\" class=\"dataframe\">\n",
       "  <thead>\n",
       "    <tr style=\"text-align: right;\">\n",
       "      <th></th>\n",
       "      <th>symboling</th>\n",
       "      <th>normalized-losses</th>\n",
       "      <th>wheel-base</th>\n",
       "      <th>length</th>\n",
       "      <th>width</th>\n",
       "      <th>height</th>\n",
       "      <th>curb-weight</th>\n",
       "      <th>engine-size</th>\n",
       "      <th>bore</th>\n",
       "      <th>stroke</th>\n",
       "      <th>compression-ratio</th>\n",
       "      <th>horsepower</th>\n",
       "      <th>peak-rpm</th>\n",
       "      <th>city-mpg</th>\n",
       "      <th>highway-mpg</th>\n",
       "      <th>price</th>\n",
       "    </tr>\n",
       "  </thead>\n",
       "  <tbody>\n",
       "    <tr>\n",
       "      <th>symboling</th>\n",
       "      <td>1.000000</td>\n",
       "      <td>0.444987</td>\n",
       "      <td>-0.536516</td>\n",
       "      <td>-0.363194</td>\n",
       "      <td>-0.247741</td>\n",
       "      <td>-0.517803</td>\n",
       "      <td>-0.231086</td>\n",
       "      <td>-0.068327</td>\n",
       "      <td>-0.144785</td>\n",
       "      <td>-0.010884</td>\n",
       "      <td>-0.175160</td>\n",
       "      <td>0.069491</td>\n",
       "      <td>0.227899</td>\n",
       "      <td>0.017639</td>\n",
       "      <td>0.085775</td>\n",
       "      <td>-0.084835</td>\n",
       "    </tr>\n",
       "    <tr>\n",
       "      <th>normalized-losses</th>\n",
       "      <td>0.444987</td>\n",
       "      <td>1.000000</td>\n",
       "      <td>-0.062453</td>\n",
       "      <td>0.005691</td>\n",
       "      <td>0.069490</td>\n",
       "      <td>-0.352688</td>\n",
       "      <td>0.074353</td>\n",
       "      <td>0.104208</td>\n",
       "      <td>-0.045558</td>\n",
       "      <td>0.047360</td>\n",
       "      <td>-0.111904</td>\n",
       "      <td>0.181163</td>\n",
       "      <td>0.218424</td>\n",
       "      <td>-0.174087</td>\n",
       "      <td>-0.131924</td>\n",
       "      <td>0.097696</td>\n",
       "    </tr>\n",
       "    <tr>\n",
       "      <th>wheel-base</th>\n",
       "      <td>-0.536516</td>\n",
       "      <td>-0.062453</td>\n",
       "      <td>1.000000</td>\n",
       "      <td>0.879307</td>\n",
       "      <td>0.818465</td>\n",
       "      <td>0.591239</td>\n",
       "      <td>0.782173</td>\n",
       "      <td>0.568375</td>\n",
       "      <td>0.495957</td>\n",
       "      <td>0.174225</td>\n",
       "      <td>0.252234</td>\n",
       "      <td>0.377040</td>\n",
       "      <td>-0.350823</td>\n",
       "      <td>-0.504499</td>\n",
       "      <td>-0.571771</td>\n",
       "      <td>0.584951</td>\n",
       "    </tr>\n",
       "    <tr>\n",
       "      <th>length</th>\n",
       "      <td>-0.363194</td>\n",
       "      <td>0.005691</td>\n",
       "      <td>0.879307</td>\n",
       "      <td>1.000000</td>\n",
       "      <td>0.857368</td>\n",
       "      <td>0.491050</td>\n",
       "      <td>0.882694</td>\n",
       "      <td>0.686998</td>\n",
       "      <td>0.606373</td>\n",
       "      <td>0.121888</td>\n",
       "      <td>0.156061</td>\n",
       "      <td>0.589650</td>\n",
       "      <td>-0.276144</td>\n",
       "      <td>-0.702143</td>\n",
       "      <td>-0.731264</td>\n",
       "      <td>0.695928</td>\n",
       "    </tr>\n",
       "    <tr>\n",
       "      <th>width</th>\n",
       "      <td>-0.247741</td>\n",
       "      <td>0.069490</td>\n",
       "      <td>0.818465</td>\n",
       "      <td>0.857368</td>\n",
       "      <td>1.000000</td>\n",
       "      <td>0.310640</td>\n",
       "      <td>0.867640</td>\n",
       "      <td>0.739903</td>\n",
       "      <td>0.541633</td>\n",
       "      <td>0.188733</td>\n",
       "      <td>0.188631</td>\n",
       "      <td>0.621532</td>\n",
       "      <td>-0.247612</td>\n",
       "      <td>-0.657153</td>\n",
       "      <td>-0.702009</td>\n",
       "      <td>0.754649</td>\n",
       "    </tr>\n",
       "    <tr>\n",
       "      <th>height</th>\n",
       "      <td>-0.517803</td>\n",
       "      <td>-0.352688</td>\n",
       "      <td>0.591239</td>\n",
       "      <td>0.491050</td>\n",
       "      <td>0.310640</td>\n",
       "      <td>1.000000</td>\n",
       "      <td>0.305837</td>\n",
       "      <td>0.026906</td>\n",
       "      <td>0.182445</td>\n",
       "      <td>-0.054338</td>\n",
       "      <td>0.253934</td>\n",
       "      <td>-0.081730</td>\n",
       "      <td>-0.257334</td>\n",
       "      <td>-0.111166</td>\n",
       "      <td>-0.159850</td>\n",
       "      <td>0.136234</td>\n",
       "    </tr>\n",
       "    <tr>\n",
       "      <th>curb-weight</th>\n",
       "      <td>-0.231086</td>\n",
       "      <td>0.074353</td>\n",
       "      <td>0.782173</td>\n",
       "      <td>0.882694</td>\n",
       "      <td>0.867640</td>\n",
       "      <td>0.305837</td>\n",
       "      <td>1.000000</td>\n",
       "      <td>0.857188</td>\n",
       "      <td>0.645070</td>\n",
       "      <td>0.175349</td>\n",
       "      <td>0.161030</td>\n",
       "      <td>0.762154</td>\n",
       "      <td>-0.278528</td>\n",
       "      <td>-0.777763</td>\n",
       "      <td>-0.818104</td>\n",
       "      <td>0.835368</td>\n",
       "    </tr>\n",
       "    <tr>\n",
       "      <th>engine-size</th>\n",
       "      <td>-0.068327</td>\n",
       "      <td>0.104208</td>\n",
       "      <td>0.568375</td>\n",
       "      <td>0.686998</td>\n",
       "      <td>0.739903</td>\n",
       "      <td>0.026906</td>\n",
       "      <td>0.857188</td>\n",
       "      <td>1.000000</td>\n",
       "      <td>0.581854</td>\n",
       "      <td>0.214518</td>\n",
       "      <td>0.025257</td>\n",
       "      <td>0.845325</td>\n",
       "      <td>-0.217769</td>\n",
       "      <td>-0.716378</td>\n",
       "      <td>-0.737531</td>\n",
       "      <td>0.888778</td>\n",
       "    </tr>\n",
       "    <tr>\n",
       "      <th>bore</th>\n",
       "      <td>-0.144785</td>\n",
       "      <td>-0.045558</td>\n",
       "      <td>0.495957</td>\n",
       "      <td>0.606373</td>\n",
       "      <td>0.541633</td>\n",
       "      <td>0.182445</td>\n",
       "      <td>0.645070</td>\n",
       "      <td>0.581854</td>\n",
       "      <td>1.000000</td>\n",
       "      <td>-0.065038</td>\n",
       "      <td>-0.004172</td>\n",
       "      <td>0.572972</td>\n",
       "      <td>-0.273766</td>\n",
       "      <td>-0.601369</td>\n",
       "      <td>-0.608804</td>\n",
       "      <td>0.546295</td>\n",
       "    </tr>\n",
       "    <tr>\n",
       "      <th>stroke</th>\n",
       "      <td>-0.010884</td>\n",
       "      <td>0.047360</td>\n",
       "      <td>0.174225</td>\n",
       "      <td>0.121888</td>\n",
       "      <td>0.188733</td>\n",
       "      <td>-0.054338</td>\n",
       "      <td>0.175349</td>\n",
       "      <td>0.214518</td>\n",
       "      <td>-0.065038</td>\n",
       "      <td>1.000000</td>\n",
       "      <td>0.199600</td>\n",
       "      <td>0.102913</td>\n",
       "      <td>-0.068420</td>\n",
       "      <td>-0.031248</td>\n",
       "      <td>-0.040274</td>\n",
       "      <td>0.096007</td>\n",
       "    </tr>\n",
       "    <tr>\n",
       "      <th>compression-ratio</th>\n",
       "      <td>-0.175160</td>\n",
       "      <td>-0.111904</td>\n",
       "      <td>0.252234</td>\n",
       "      <td>0.156061</td>\n",
       "      <td>0.188631</td>\n",
       "      <td>0.253934</td>\n",
       "      <td>0.161030</td>\n",
       "      <td>0.025257</td>\n",
       "      <td>-0.004172</td>\n",
       "      <td>0.199600</td>\n",
       "      <td>1.000000</td>\n",
       "      <td>-0.203818</td>\n",
       "      <td>-0.439741</td>\n",
       "      <td>0.314648</td>\n",
       "      <td>0.249669</td>\n",
       "      <td>0.074483</td>\n",
       "    </tr>\n",
       "    <tr>\n",
       "      <th>horsepower</th>\n",
       "      <td>0.069491</td>\n",
       "      <td>0.181163</td>\n",
       "      <td>0.377040</td>\n",
       "      <td>0.589650</td>\n",
       "      <td>0.621532</td>\n",
       "      <td>-0.081730</td>\n",
       "      <td>0.762154</td>\n",
       "      <td>0.845325</td>\n",
       "      <td>0.572972</td>\n",
       "      <td>0.102913</td>\n",
       "      <td>-0.203818</td>\n",
       "      <td>1.000000</td>\n",
       "      <td>0.101383</td>\n",
       "      <td>-0.833615</td>\n",
       "      <td>-0.812078</td>\n",
       "      <td>0.812453</td>\n",
       "    </tr>\n",
       "    <tr>\n",
       "      <th>peak-rpm</th>\n",
       "      <td>0.227899</td>\n",
       "      <td>0.218424</td>\n",
       "      <td>-0.350823</td>\n",
       "      <td>-0.276144</td>\n",
       "      <td>-0.247612</td>\n",
       "      <td>-0.257334</td>\n",
       "      <td>-0.278528</td>\n",
       "      <td>-0.217769</td>\n",
       "      <td>-0.273766</td>\n",
       "      <td>-0.068420</td>\n",
       "      <td>-0.439741</td>\n",
       "      <td>0.101383</td>\n",
       "      <td>1.000000</td>\n",
       "      <td>-0.061032</td>\n",
       "      <td>-0.008412</td>\n",
       "      <td>-0.103835</td>\n",
       "    </tr>\n",
       "    <tr>\n",
       "      <th>city-mpg</th>\n",
       "      <td>0.017639</td>\n",
       "      <td>-0.174087</td>\n",
       "      <td>-0.504499</td>\n",
       "      <td>-0.702143</td>\n",
       "      <td>-0.657153</td>\n",
       "      <td>-0.111166</td>\n",
       "      <td>-0.777763</td>\n",
       "      <td>-0.716378</td>\n",
       "      <td>-0.601369</td>\n",
       "      <td>-0.031248</td>\n",
       "      <td>0.314648</td>\n",
       "      <td>-0.833615</td>\n",
       "      <td>-0.061032</td>\n",
       "      <td>1.000000</td>\n",
       "      <td>0.971975</td>\n",
       "      <td>-0.706618</td>\n",
       "    </tr>\n",
       "    <tr>\n",
       "      <th>highway-mpg</th>\n",
       "      <td>0.085775</td>\n",
       "      <td>-0.131924</td>\n",
       "      <td>-0.571771</td>\n",
       "      <td>-0.731264</td>\n",
       "      <td>-0.702009</td>\n",
       "      <td>-0.159850</td>\n",
       "      <td>-0.818104</td>\n",
       "      <td>-0.737531</td>\n",
       "      <td>-0.608804</td>\n",
       "      <td>-0.040274</td>\n",
       "      <td>0.249669</td>\n",
       "      <td>-0.812078</td>\n",
       "      <td>-0.008412</td>\n",
       "      <td>0.971975</td>\n",
       "      <td>1.000000</td>\n",
       "      <td>-0.719178</td>\n",
       "    </tr>\n",
       "    <tr>\n",
       "      <th>price</th>\n",
       "      <td>-0.084835</td>\n",
       "      <td>0.097696</td>\n",
       "      <td>0.584951</td>\n",
       "      <td>0.695928</td>\n",
       "      <td>0.754649</td>\n",
       "      <td>0.136234</td>\n",
       "      <td>0.835368</td>\n",
       "      <td>0.888778</td>\n",
       "      <td>0.546295</td>\n",
       "      <td>0.096007</td>\n",
       "      <td>0.074483</td>\n",
       "      <td>0.812453</td>\n",
       "      <td>-0.103835</td>\n",
       "      <td>-0.706618</td>\n",
       "      <td>-0.719178</td>\n",
       "      <td>1.000000</td>\n",
       "    </tr>\n",
       "  </tbody>\n",
       "</table>\n",
       "</div>"
      ],
      "text/plain": [
       "                   symboling  normalized-losses  wheel-base    length  \\\n",
       "symboling           1.000000           0.444987   -0.536516 -0.363194   \n",
       "normalized-losses   0.444987           1.000000   -0.062453  0.005691   \n",
       "wheel-base         -0.536516          -0.062453    1.000000  0.879307   \n",
       "length             -0.363194           0.005691    0.879307  1.000000   \n",
       "width              -0.247741           0.069490    0.818465  0.857368   \n",
       "height             -0.517803          -0.352688    0.591239  0.491050   \n",
       "curb-weight        -0.231086           0.074353    0.782173  0.882694   \n",
       "engine-size        -0.068327           0.104208    0.568375  0.686998   \n",
       "bore               -0.144785          -0.045558    0.495957  0.606373   \n",
       "stroke             -0.010884           0.047360    0.174225  0.121888   \n",
       "compression-ratio  -0.175160          -0.111904    0.252234  0.156061   \n",
       "horsepower          0.069491           0.181163    0.377040  0.589650   \n",
       "peak-rpm            0.227899           0.218424   -0.350823 -0.276144   \n",
       "city-mpg            0.017639          -0.174087   -0.504499 -0.702143   \n",
       "highway-mpg         0.085775          -0.131924   -0.571771 -0.731264   \n",
       "price              -0.084835           0.097696    0.584951  0.695928   \n",
       "\n",
       "                      width    height  curb-weight  engine-size      bore  \\\n",
       "symboling         -0.247741 -0.517803    -0.231086    -0.068327 -0.144785   \n",
       "normalized-losses  0.069490 -0.352688     0.074353     0.104208 -0.045558   \n",
       "wheel-base         0.818465  0.591239     0.782173     0.568375  0.495957   \n",
       "length             0.857368  0.491050     0.882694     0.686998  0.606373   \n",
       "width              1.000000  0.310640     0.867640     0.739903  0.541633   \n",
       "height             0.310640  1.000000     0.305837     0.026906  0.182445   \n",
       "curb-weight        0.867640  0.305837     1.000000     0.857188  0.645070   \n",
       "engine-size        0.739903  0.026906     0.857188     1.000000  0.581854   \n",
       "bore               0.541633  0.182445     0.645070     0.581854  1.000000   \n",
       "stroke             0.188733 -0.054338     0.175349     0.214518 -0.065038   \n",
       "compression-ratio  0.188631  0.253934     0.161030     0.025257 -0.004172   \n",
       "horsepower         0.621532 -0.081730     0.762154     0.845325  0.572972   \n",
       "peak-rpm          -0.247612 -0.257334    -0.278528    -0.217769 -0.273766   \n",
       "city-mpg          -0.657153 -0.111166    -0.777763    -0.716378 -0.601369   \n",
       "highway-mpg       -0.702009 -0.159850    -0.818104    -0.737531 -0.608804   \n",
       "price              0.754649  0.136234     0.835368     0.888778  0.546295   \n",
       "\n",
       "                     stroke  compression-ratio  horsepower  peak-rpm  \\\n",
       "symboling         -0.010884          -0.175160    0.069491  0.227899   \n",
       "normalized-losses  0.047360          -0.111904    0.181163  0.218424   \n",
       "wheel-base         0.174225           0.252234    0.377040 -0.350823   \n",
       "length             0.121888           0.156061    0.589650 -0.276144   \n",
       "width              0.188733           0.188631    0.621532 -0.247612   \n",
       "height            -0.054338           0.253934   -0.081730 -0.257334   \n",
       "curb-weight        0.175349           0.161030    0.762154 -0.278528   \n",
       "engine-size        0.214518           0.025257    0.845325 -0.217769   \n",
       "bore              -0.065038          -0.004172    0.572972 -0.273766   \n",
       "stroke             1.000000           0.199600    0.102913 -0.068420   \n",
       "compression-ratio  0.199600           1.000000   -0.203818 -0.439741   \n",
       "horsepower         0.102913          -0.203818    1.000000  0.101383   \n",
       "peak-rpm          -0.068420          -0.439741    0.101383  1.000000   \n",
       "city-mpg          -0.031248           0.314648   -0.833615 -0.061032   \n",
       "highway-mpg       -0.040274           0.249669   -0.812078 -0.008412   \n",
       "price              0.096007           0.074483    0.812453 -0.103835   \n",
       "\n",
       "                   city-mpg  highway-mpg     price  \n",
       "symboling          0.017639     0.085775 -0.084835  \n",
       "normalized-losses -0.174087    -0.131924  0.097696  \n",
       "wheel-base        -0.504499    -0.571771  0.584951  \n",
       "length            -0.702143    -0.731264  0.695928  \n",
       "width             -0.657153    -0.702009  0.754649  \n",
       "height            -0.111166    -0.159850  0.136234  \n",
       "curb-weight       -0.777763    -0.818104  0.835368  \n",
       "engine-size       -0.716378    -0.737531  0.888778  \n",
       "bore              -0.601369    -0.608804  0.546295  \n",
       "stroke            -0.031248    -0.040274  0.096007  \n",
       "compression-ratio  0.314648     0.249669  0.074483  \n",
       "horsepower        -0.833615    -0.812078  0.812453  \n",
       "peak-rpm          -0.061032    -0.008412 -0.103835  \n",
       "city-mpg           1.000000     0.971975 -0.706618  \n",
       "highway-mpg        0.971975     1.000000 -0.719178  \n",
       "price             -0.706618    -0.719178  1.000000  "
      ]
     },
     "execution_count": 15,
     "metadata": {},
     "output_type": "execute_result"
    }
   ],
   "source": [
    "#признаки между собой\n",
    "data.corr()"
   ]
  },
  {
   "cell_type": "markdown",
   "metadata": {},
   "source": [
    "**Задача 3.4 (0.1 балла)** Закодируйте категориальные признаки.\n",
    "\n",
    "Можете использовать любые кодировки из библиотеки target_encoders или же OneHotEncoder из sklearn."
   ]
  },
  {
   "cell_type": "code",
   "execution_count": 16,
   "metadata": {},
   "outputs": [],
   "source": [
    "#кодирую\n",
    "numerical_culumns = data.select_dtypes(include='number').columns.drop(['price'])\n",
    "data_cod = pd.get_dummies(data, drop_first = True)"
   ]
  },
  {
   "cell_type": "markdown",
   "metadata": {},
   "source": [
    "**Задача 3.5 (0.2 балла)** Разделите выборку на тренировочную и тестовую. Долю тестовой выборки укажите равной 0.3."
   ]
  },
  {
   "cell_type": "code",
   "execution_count": 17,
   "metadata": {},
   "outputs": [],
   "source": [
    "y = data['price']\n",
    "X = data_cod.drop('price', axis = 1)"
   ]
  },
  {
   "cell_type": "code",
   "execution_count": 18,
   "metadata": {},
   "outputs": [],
   "source": [
    "np.random.RandomState = 101010\n",
    "X_train, X_test, y_train, y_test = train_test_split(X, y, test_size=0.3)"
   ]
  },
  {
   "cell_type": "markdown",
   "metadata": {},
   "source": [
    "**Задача 3.6 (0.3 балла)** Масштабируйте вещественные признаки тренировочной и тестовой выборок при помощи модуля `StandardScaler`."
   ]
  },
  {
   "cell_type": "code",
   "execution_count": 19,
   "metadata": {},
   "outputs": [],
   "source": [
    "from sklearn.preprocessing import StandardScaler\n",
    "\n",
    "scaler = StandardScaler()\n",
    "\n",
    "scaler.fit(X_train[numerical_culumns])\n",
    "\n",
    "X_train[numerical_culumns] = scaler.transform(X_train[numerical_culumns])\n",
    "X_test[numerical_culumns] = scaler.transform(X_test[numerical_culumns])\n"
   ]
  },
  {
   "cell_type": "markdown",
   "metadata": {},
   "source": [
    "**Задача 3.7 (0.2 балла)** Оцените линейную регрессию на тренировочной выборке. Выведите среднеквадратичную ошибку на тренировочной и тестовой выборках, а также r2."
   ]
  },
  {
   "cell_type": "code",
   "execution_count": 20,
   "metadata": {},
   "outputs": [
    {
     "name": "stdout",
     "output_type": "stream",
     "text": [
      "LEAST SQUARE\n",
      "r2 for X_train: 0.982\n",
      "r2 for X_test : 0.832\n",
      "RMSE for X_train: 999.88\n",
      "RMSE for X_test : 3214.6\n"
     ]
    }
   ],
   "source": [
    "from sklearn.linear_model import LinearRegression\n",
    "from sklearn.metrics import r2_score, mean_squared_error\n",
    "\n",
    "model = LinearRegression()\n",
    "model.fit(X_train, y_train)\n",
    "\n",
    "train_predict = model.predict(X_train)\n",
    "test_predict = model.predict(X_test)\n",
    "\n",
    "print('LEAST SQUARE')\n",
    "print(f'r2 for X_train: {r2_score(train_predict, y_train):.3}')\n",
    "print(f'r2 for X_test : {r2_score(test_predict, y_test):.3}')\n",
    "print(f'RMSE for X_train: {mean_squared_error(train_predict, y_train,squared = False):.5}')\n",
    "print(f'RMSE for X_test : {mean_squared_error(test_predict, y_test,squared = False):.5}')"
   ]
  },
  {
   "cell_type": "markdown",
   "metadata": {},
   "source": [
    "**Задача 3.8 (0.2 балла)** Изучите документацию модуля `LinearRegression` и выведите полученные оценки коэффициентов. Назовите вещественные переменные, оценки коэффициентов которых по модулю на порядок превышают оценки прочих вещественных переменных."
   ]
  },
  {
   "cell_type": "code",
   "execution_count": 21,
   "metadata": {},
   "outputs": [
    {
     "name": "stdout",
     "output_type": "stream",
     "text": [
      "fuel-system_spfi: 0.0\n",
      "num-of-cylinders_twelve: 3.63798e-12\n",
      "normalized-losses: 15.2401\n",
      "symboling: 103.347\n",
      "make_honda: 124.481\n",
      "stroke: 143.753\n",
      "make_mercury: 290.35\n",
      "make_volvo: 294.341\n",
      "make_nissan: 323.068\n",
      "engine-type_l: 426.005\n",
      "drive-wheels_fwd: 457.381\n",
      "make_mazda: 459.429\n",
      "make_jaguar: 490.464\n",
      "city-mpg: 574.125\n",
      "peak-rpm: 777.69\n",
      "make_volkswagen: 783.962\n",
      "height: 849.19\n",
      "num-of-cylinders_five: 1070.92\n",
      "engine-type_ohc: 1111.18\n",
      "highway-mpg: 1208.39\n",
      "num-of-doors_two: 1223.87\n",
      "num-of-cylinders_four: 1329.47\n",
      "num-of-cylinders_six: 1405.49\n",
      "horsepower: 1527.57\n",
      "make_toyota: 1650.77\n",
      "engine-type_ohcv: 1765.59\n",
      "aspiration_turbo: 1777.53\n",
      "make_mercedes-benz: 1825.37\n",
      "drive-wheels_rwd: 1879.07\n",
      "wheel-base: 1986.9\n",
      "width: 2027.67\n",
      "make_chevrolet: 2068.24\n",
      "bore: 2103.92\n",
      "make_isuzu: 2222.99\n",
      "length: 2453.69\n",
      "engine-size: 2497.4\n",
      "fuel-system_spdi: 2722.87\n",
      "fuel-system_mpfi: 2762.43\n",
      "fuel-system_mfi: 2838.62\n",
      "fuel-system_2bbl: 3165.3\n",
      "body-style_sedan: 3212.37\n",
      "make_audi: 3218.87\n",
      "body-style_hatchback: 3468.94\n",
      "body-style_hardtop: 3476.62\n",
      "body-style_wagon: 3829.98\n",
      "make_dodge: 3928.54\n",
      "make_plymouth: 4106.2\n",
      "make_mitsubishi: 4482.81\n",
      "make_saab: 4544.36\n",
      "curb-weight: 4861.42\n",
      "compression-ratio: 5234.35\n",
      "engine-type_ohcf: 5362.07\n",
      "make_subaru: 5456.35\n",
      "num-of-cylinders_three: 5856.01\n",
      "make_peugot: 6282.01\n",
      "make_porsche: 7144.65\n",
      "make_bmw: 8210.56\n",
      "fuel-type_gas: 9401.26\n",
      "fuel-system_idi: 9401.26\n",
      "engine-location_rear: 10818.4\n"
     ]
    }
   ],
   "source": [
    "#вывожу коэффициенты по убыванию модуля\n",
    "\n",
    "for coef, name in sorted(zip(abs(model.coef_),X_test.columns)):\n",
    "    print(f'{name}: {coef:.6}')"
   ]
  },
  {
   "cell_type": "markdown",
   "metadata": {},
   "source": [
    "**Задача 3.9 (0.4 балла)** Как можно заметить из анализа корреляционной матрицы в задаче 3.3, между некоторыми признаками имеется сильная корреляция, что может быть индикатором проблемы *мультиколлинеарности*. Различия в порядке коэффициентов, выявленные в предыдущей задаче также намекают на её присутствие. Как известно, для решения этой проблемы можно либо исключить некоторые признаки из модели, либо использовать регуляризацию. Мы воспользуемся вторым вариантом. \n",
    "\n",
    "Вспомним, что смысл регуляризации заключается в том, чтобы изменить функцию потерь так, чтобы устранить проблемы, появляющиеся из-за мультиколлинеарности. При L1-регуляризации предлагается минимизировать следующую функцию потерь:\n",
    "\n",
    "$$\n",
    "\\|y - X\\hat{w}\\|^2 + \\alpha\\sum_{i=1}^k|w_i|\n",
    "$$\n",
    "\n",
    "Такая модель называется Lasso-регрессией.\n",
    "\n",
    "При L2-регуляризации предлагается минимизировать следующую функцию потерь:\n",
    "\n",
    "$$\n",
    "\\|y - X\\hat{w}\\|^2 + \\frac{1}{2}\\alpha\\|w\\|^2\n",
    "$$\n",
    "\n",
    "Такая модель называется Ridge-регрессией. \n",
    "\n",
    "Обучите Lasso-регрессию и Ridge-регрессию, уставновив гиперпараметр регуляризации равным 10. Для этого используйте модули `Lasso` и `Ridge` из `sklearn`. Сильно ли уменьшились веса? Сделайте вывод о том, насколько сильно проблема мультиколлинеарности проявлялась в изначальной регрессии."
   ]
  },
  {
   "cell_type": "code",
   "execution_count": 22,
   "metadata": {},
   "outputs": [
    {
     "name": "stdout",
     "output_type": "stream",
     "text": [
      "LASSO\n",
      "r2 for X_train: 0.972\n",
      "r2 for X_test : 0.864\n",
      "RMSE for X_train: 1224.3\n",
      "RMSE for X_test : 2988.6\n"
     ]
    }
   ],
   "source": [
    "from sklearn.linear_model import Lasso, Ridge\n",
    "\n",
    "model_lasso = Lasso(alpha=10)\n",
    "model_lasso.fit(X_train, y_train)\n",
    "\n",
    "train_predict = model_lasso.predict(X_train)\n",
    "test_predict = model_lasso.predict(X_test)\n",
    "\n",
    "print('LASSO')\n",
    "print(f'r2 for X_train: {r2_score(train_predict, y_train):.3}')\n",
    "print(f'r2 for X_test : {r2_score(test_predict, y_test):.3}')\n",
    "print(f'RMSE for X_train: {mean_squared_error(train_predict, y_train,squared = False):.5}')\n",
    "print(f'RMSE for X_test : {mean_squared_error(test_predict, y_test,squared = False):.5}')\n"
   ]
  },
  {
   "cell_type": "code",
   "execution_count": 23,
   "metadata": {},
   "outputs": [
    {
     "name": "stdout",
     "output_type": "stream",
     "text": [
      "LASSO\n",
      "drive-wheels_fwd: 0.0\n",
      "engine-type_l: 0.0\n",
      "engine-type_ohc: 0.0\n",
      "engine-type_ohcf: 0.0\n",
      "fuel-system_idi: 0.0\n",
      "fuel-system_mfi: 0.0\n",
      "fuel-system_spdi: 0.0\n",
      "fuel-system_spfi: 0.0\n",
      "fuel-type_gas: 0.0\n",
      "make_chevrolet: 0.0\n",
      "make_isuzu: 0.0\n",
      "make_mazda: 0.0\n",
      "make_mercury: 0.0\n",
      "make_nissan: 0.0\n",
      "make_saab: 0.0\n",
      "num-of-cylinders_four: 0.0\n",
      "num-of-cylinders_twelve: 0.0\n",
      "normalized-losses: 16.4414\n",
      "make_volvo: 24.3388\n",
      "city-mpg: 84.8591\n",
      "height: 87.3895\n",
      "make_honda: 134.083\n",
      "compression-ratio: 153.792\n",
      "horsepower: 163.094\n",
      "symboling: 230.786\n",
      "num-of-cylinders_five: 234.432\n",
      "highway-mpg: 237.152\n",
      "fuel-system_2bbl: 350.508\n",
      "peak-rpm: 388.224\n",
      "fuel-system_mpfi: 466.74\n",
      "wheel-base: 528.494\n",
      "drive-wheels_rwd: 538.462\n",
      "num-of-doors_two: 577.194\n",
      "make_audi: 703.983\n",
      "stroke: 713.067\n",
      "make_subaru: 827.381\n",
      "make_toyota: 834.628\n",
      "make_volkswagen: 922.821\n",
      "num-of-cylinders_six: 1009.4\n",
      "length: 1076.92\n",
      "make_dodge: 1092.26\n",
      "engine-type_ohcv: 1140.74\n",
      "make_plymouth: 1155.91\n",
      "bore: 1219.08\n",
      "aspiration_turbo: 1562.49\n",
      "body-style_sedan: 1778.26\n",
      "width: 1817.5\n",
      "make_mitsubishi: 2000.66\n",
      "engine-size: 2078.87\n",
      "body-style_hardtop: 2387.37\n",
      "make_peugot: 2390.08\n",
      "body-style_hatchback: 2404.96\n",
      "body-style_wagon: 3007.63\n",
      "num-of-cylinders_three: 3011.77\n",
      "make_mercedes-benz: 3090.75\n",
      "curb-weight: 3495.7\n",
      "make_jaguar: 3872.58\n",
      "make_porsche: 5465.16\n",
      "make_bmw: 6849.57\n",
      "engine-location_rear: 11348.4\n"
     ]
    }
   ],
   "source": [
    "#вывожу коэффициенты для Lasso по убыванию модуля\n",
    "#Сильно ли уменьшились веса? - сильно, многие - в несколько раз. 17 весов обнулились.\n",
    "\n",
    "print('LASSO')\n",
    "for coef, name in sorted(zip(abs(model_lasso.coef_),X_test.columns)):\n",
    "    print(f'{name}: {coef:.6}')"
   ]
  },
  {
   "cell_type": "code",
   "execution_count": 24,
   "metadata": {},
   "outputs": [
    {
     "name": "stdout",
     "output_type": "stream",
     "text": [
      "RIDGE\n",
      "r2 for X_train: 0.909\n",
      "r2 for X_test : 0.857\n",
      "RMSE for X_train: 2080.4\n",
      "RMSE for X_test : 3230.3\n"
     ]
    }
   ],
   "source": [
    "model_ridge = Ridge(alpha=10)\n",
    "model_ridge.fit(X_train, y_train)\n",
    "\n",
    "train_predict = model_ridge.predict(X_train)\n",
    "test_predict = model_ridge.predict(X_test)\n",
    "\n",
    "print('RIDGE')\n",
    "print(f'r2 for X_train: {r2_score(train_predict, y_train):.3}')\n",
    "print(f'r2 for X_test : {r2_score(test_predict, y_test):.3}')\n",
    "print(f'RMSE for X_train: {mean_squared_error(train_predict, y_train,squared = False):.5}')\n",
    "print(f'RMSE for X_test : {mean_squared_error(test_predict, y_test,squared = False):.5}')"
   ]
  },
  {
   "cell_type": "code",
   "execution_count": 25,
   "metadata": {},
   "outputs": [
    {
     "name": "stdout",
     "output_type": "stream",
     "text": [
      "RIDGE\n",
      "fuel-system_spfi: 0.0\n",
      "num-of-cylinders_twelve: 0.0\n",
      "make_mazda: 12.3712\n",
      "make_plymouth: 45.9598\n",
      "body-style_hardtop: 49.5007\n",
      "make_honda: 119.389\n",
      "fuel-type_gas: 121.946\n",
      "fuel-system_idi: 121.946\n",
      "height: 124.191\n",
      "fuel-system_2bbl: 124.307\n",
      "make_isuzu: 137.006\n",
      "engine-type_l: 141.876\n",
      "make_saab: 158.946\n",
      "make_dodge: 159.426\n",
      "make_peugot: 164.197\n",
      "body-style_sedan: 171.414\n",
      "normalized-losses: 173.441\n",
      "fuel-system_mpfi: 173.653\n",
      "highway-mpg: 177.679\n",
      "fuel-system_mfi: 185.339\n",
      "city-mpg: 186.412\n",
      "num-of-cylinders_six: 200.162\n",
      "make_chevrolet: 200.625\n",
      "fuel-system_spdi: 220.627\n",
      "num-of-doors_two: 237.017\n",
      "num-of-cylinders_five: 247.982\n",
      "make_volvo: 248.91\n",
      "aspiration_turbo: 271.347\n",
      "make_mercury: 281.106\n",
      "wheel-base: 299.889\n",
      "num-of-cylinders_three: 306.072\n",
      "compression-ratio: 329.677\n",
      "make_audi: 339.121\n",
      "drive-wheels_fwd: 366.351\n",
      "peak-rpm: 408.739\n",
      "bore: 454.413\n",
      "symboling: 498.484\n",
      "engine-type_ohcf: 502.592\n",
      "make_volkswagen: 513.585\n",
      "length: 541.185\n",
      "make_jaguar: 543.868\n",
      "make_nissan: 609.225\n",
      "drive-wheels_rwd: 675.302\n",
      "make_mitsubishi: 709.969\n",
      "engine-type_ohc: 796.44\n",
      "body-style_wagon: 871.167\n",
      "body-style_hatchback: 873.594\n",
      "make_subaru: 874.728\n",
      "engine-type_ohcv: 883.591\n",
      "stroke: 889.063\n",
      "make_mercedes-benz: 1007.45\n",
      "make_toyota: 1033.72\n",
      "make_bmw: 1249.28\n",
      "width: 1252.71\n",
      "curb-weight: 1322.48\n",
      "engine-location_rear: 1377.32\n",
      "num-of-cylinders_four: 1408.16\n",
      "make_porsche: 1514.56\n",
      "horsepower: 1645.62\n",
      "engine-size: 2817.19\n"
     ]
    }
   ],
   "source": [
    "#вывожу коэффициенты для Ridge по убыванию модуля\n",
    "#Сильно ли уменьшились веса? - сильно, сильнее, чем для Lasso, но не обнулились.\n",
    "\n",
    "print('RIDGE')\n",
    "for coef, name in sorted(zip(abs(model_ridge.coef_),X_test.columns)):\n",
    "    print(f'{name}: {coef:.6}')"
   ]
  },
  {
   "cell_type": "code",
   "execution_count": 26,
   "metadata": {},
   "outputs": [],
   "source": [
    "#Сделайте вывод о том, насколько сильно проблема мультиколлинеарности проявлялась в изначальной регрессии.\n",
    "\n",
    "#Судя по тому, что в Lasso обнулились даже те признаки, которые в Ordinary Least Squares имели наибольшие веса (fuel-system_****, например), \n",
    "# а RMSE и R2_score в Lasso при этом улучшились, делаю вывод, что проблема мультиколлинеарности для датасета действительно имеет место. \n"
   ]
  },
  {
   "cell_type": "markdown",
   "metadata": {},
   "source": [
    "**Задача 3.10 (0.4 балла)** Как обсуждалось на семинарах, Lasso-регрессию можно использовать для отбора наиболее информативных признаков. Для следующих значений параметра регуляриазции $\\alpha$: 0.1, 1, 10, 100, 200 –  обучите Lasso- и Ridge-регрессии и постройте график измненения евклидовой нормы весов (`np.linalg.norm()` от вектора оценок коэффициентов) в зависимости от параметра $\\alpha$. Как известно, норма является численной характеристикой величины вектора, а потому по норме можно судить о том, насколько большие элементы содержит вектор оценок коэффициентов. \n",
    "\n",
    "Какой метод агрессивнее уменьшает веса? Поясните, почему Lasso-регрессию часто используют для отбора признаков."
   ]
  },
  {
   "cell_type": "code",
   "execution_count": 27,
   "metadata": {},
   "outputs": [
    {
     "name": "stderr",
     "output_type": "stream",
     "text": [
      "/home/eva/.local/lib/python3.8/site-packages/sklearn/linear_model/_coordinate_descent.py:647: ConvergenceWarning: Objective did not converge. You might want to increase the number of iterations, check the scale of the features or consider increasing regularisation. Duality gap: 4.687e+07, tolerance: 7.641e+05\n",
      "  model = cd_fast.enet_coordinate_descent(\n",
      "/home/eva/.local/lib/python3.8/site-packages/sklearn/linear_model/_coordinate_descent.py:647: ConvergenceWarning: Objective did not converge. You might want to increase the number of iterations, check the scale of the features or consider increasing regularisation. Duality gap: 9.125e+06, tolerance: 7.641e+05\n",
      "  model = cd_fast.enet_coordinate_descent(\n"
     ]
    }
   ],
   "source": [
    "#Обучаю Lasso и Ridge регрессии и записываю результаты в словари\n",
    "\n",
    "alpha = [0.1, 1, 10, 100, 200]\n",
    "norms_ridge = dict()\n",
    "norms_lasso = dict()\n",
    "\n",
    "for norm_value in alpha:\n",
    "    model_ridge = Ridge(alpha=norm_value)\n",
    "    model_ridge.fit(X_train, y_train)\n",
    "    norms_ridge[norm_value] = np.linalg.norm(model_ridge.coef_)\n",
    "\n",
    "for norm_value in alpha:\n",
    "    model_lasso = Lasso(alpha=norm_value)\n",
    "    model_lasso.fit(X_train, y_train)\n",
    "    norms_lasso[norm_value] = np.linalg.norm(model_lasso.coef_)"
   ]
  },
  {
   "cell_type": "code",
   "execution_count": 28,
   "metadata": {},
   "outputs": [
    {
     "data": {
      "image/png": "[encoded data removed]",
      "text/plain": [
       "<Figure size 720x360 with 1 Axes>"
      ]
     },
     "metadata": {
      "needs_background": "light"
     },
     "output_type": "display_data"
    }
   ],
   "source": [
    "#Строю график зависимости Alpha от нормы вектора оценок коэффициентов\n",
    "import matplotlib.pyplot as plt\n",
    "\n",
    "plt.figure(figsize=(10,5))\n",
    "plt.scatter(norms_lasso.values(), norms_lasso.keys(), label = 'Lasso')\n",
    "plt.scatter(norms_ridge.values(), norms_ridge.keys(), label = 'Ridge')\n",
    "plt.xlabel('Coeff')\n",
    "plt.ylabel('Alpha')\n",
    "plt.legend()\n",
    "plt.show()"
   ]
  },
  {
   "cell_type": "code",
   "execution_count": 29,
   "metadata": {},
   "outputs": [],
   "source": [
    "#Какой метод агрессивнее уменьшает веса?\n",
    "#Метод Ridge агрессивнее уменьшает веса\n",
    "\n",
    "#Поясните, почему Lasso-регрессию часто используют для отбора признаков.\n",
    "#Потому что именно Lasso имеет возможность обнулять веса для признаков."
   ]
  },
  {
   "cell_type": "markdown",
   "metadata": {},
   "source": [
    "**Задача 3.11 (0.5 балла)** \n",
    "В зависимости от значения параметра $\\alpha$ в Lasso-регрессии зануляются разные оценки коэффициентов. Оптимальное значение $\\alpha$ можно подобрать, например, при помощи кросс-валидации по тренировочной выборке. \n",
    "\n",
    "Для проведения кросс-валидации можно использовать модуль `LassoCV`. Этот модуль принимает список значений $\\alpha$ (параметр `alphas`) и при обучении проводит кросс-валидацию для каждого значения из этого списка, сохраняя MSE на каждом участке кросс-валидации (количество участков – параметр `cv`) в матрицу ошибок (то есть итоговая матрица будет иметь размер `len(alphas)` $\\times$ `cv`). После обучения модели матрицу ошибок можно получить, обратившись к атрибуту `.mse_path_`. \n",
    "\n",
    "Заметим, что модель может использовать $\\alpha$ не в том порядке, в котором вы подаёте их в функцию: для определения порядка используйте атрибут `.alphas_` Установите количество участков для кросс-валидации (параметр `cv`) равным 5.\n",
    "\n",
    "Усредните ошибки для каждого значения $\\alpha$ (то есть по строкам матрицы ошибок) и выберите то значение, которое даёт наибольшее качество. "
   ]
  },
  {
   "cell_type": "code",
   "execution_count": 30,
   "metadata": {},
   "outputs": [
    {
     "name": "stderr",
     "output_type": "stream",
     "text": [
      "/home/eva/.local/lib/python3.8/site-packages/sklearn/linear_model/_coordinate_descent.py:633: ConvergenceWarning: Objective did not converge. You might want to increase the number of iterations. Duality gap: 4465940.615956128, tolerance: 550072.7229657408\n",
      "  model = cd_fast.enet_coordinate_descent_gram(\n",
      "/home/eva/.local/lib/python3.8/site-packages/sklearn/linear_model/_coordinate_descent.py:633: ConvergenceWarning: Objective did not converge. You might want to increase the number of iterations. Duality gap: 23254930.88549502, tolerance: 550072.7229657408\n",
      "  model = cd_fast.enet_coordinate_descent_gram(\n",
      "/home/eva/.local/lib/python3.8/site-packages/sklearn/linear_model/_coordinate_descent.py:633: ConvergenceWarning: Objective did not converge. You might want to increase the number of iterations. Duality gap: 8892859.827727765, tolerance: 628357.4733657409\n",
      "  model = cd_fast.enet_coordinate_descent_gram(\n",
      "/home/eva/.local/lib/python3.8/site-packages/sklearn/linear_model/_coordinate_descent.py:633: ConvergenceWarning: Objective did not converge. You might want to increase the number of iterations. Duality gap: 15640203.915076233, tolerance: 628357.4733657409\n",
      "  model = cd_fast.enet_coordinate_descent_gram(\n",
      "/home/eva/.local/lib/python3.8/site-packages/sklearn/linear_model/_coordinate_descent.py:633: ConvergenceWarning: Objective did not converge. You might want to increase the number of iterations. Duality gap: 15119520.843259215, tolerance: 643309.5230629628\n",
      "  model = cd_fast.enet_coordinate_descent_gram(\n",
      "/home/eva/.local/lib/python3.8/site-packages/sklearn/linear_model/_coordinate_descent.py:633: ConvergenceWarning: Objective did not converge. You might want to increase the number of iterations. Duality gap: 36188502.00950946, tolerance: 643309.5230629628\n",
      "  model = cd_fast.enet_coordinate_descent_gram(\n",
      "/home/eva/.local/lib/python3.8/site-packages/sklearn/linear_model/_coordinate_descent.py:633: ConvergenceWarning: Objective did not converge. You might want to increase the number of iterations. Duality gap: 2101046.5844629854, tolerance: 672925.7136546295\n",
      "  model = cd_fast.enet_coordinate_descent_gram(\n",
      "/home/eva/.local/lib/python3.8/site-packages/sklearn/linear_model/_coordinate_descent.py:633: ConvergenceWarning: Objective did not converge. You might want to increase the number of iterations. Duality gap: 19150326.451001458, tolerance: 672925.7136546295\n",
      "  model = cd_fast.enet_coordinate_descent_gram(\n",
      "/home/eva/.local/lib/python3.8/site-packages/sklearn/linear_model/_coordinate_descent.py:633: ConvergenceWarning: Objective did not converge. You might want to increase the number of iterations. Duality gap: 21686696.50717505, tolerance: 559432.8834546297\n",
      "  model = cd_fast.enet_coordinate_descent_gram(\n",
      "/home/eva/.local/lib/python3.8/site-packages/sklearn/linear_model/_coordinate_descent.py:633: ConvergenceWarning: Objective did not converge. You might want to increase the number of iterations. Duality gap: 37516687.25937238, tolerance: 559432.8834546297\n",
      "  model = cd_fast.enet_coordinate_descent_gram(\n"
     ]
    },
    {
     "data": {
      "text/plain": [
       "LassoCV(alphas=[0.1, 1, 10, 100, 200], cv=5)"
      ]
     },
     "execution_count": 30,
     "metadata": {},
     "output_type": "execute_result"
    }
   ],
   "source": [
    "from sklearn.linear_model import LassoCV\n",
    "\n",
    "model_lasso_cv = LassoCV(alphas=alpha, cv=5)\n",
    "model_lasso_cv.fit(X_train, y_train)\n"
   ]
  },
  {
   "cell_type": "code",
   "execution_count": 31,
   "metadata": {},
   "outputs": [
    {
     "name": "stdout",
     "output_type": "stream",
     "text": [
      "Alpha: 200.0, MSE: 9.19e+06\n",
      "Alpha: 100.0, MSE: 7.57e+06\n",
      "Alpha: 10.0, MSE: 5.44e+06\n",
      "Alpha: 1.0, MSE: 5.94e+06\n",
      "Alpha: 0.1, MSE: 6.24e+06\n"
     ]
    }
   ],
   "source": [
    "#Усредните ошибки для каждого значения $\\alpha$ (то есть по строкам матрицы ошибок)\n",
    "\n",
    "\n",
    "for alpha, val in zip(model_lasso_cv.alphas_, \n",
    "                      model_lasso_cv.mse_path_):\n",
    "    print(f'Alpha: {alpha:.4}, MSE: {val.mean():.3}')"
   ]
  },
  {
   "cell_type": "code",
   "execution_count": 32,
   "metadata": {},
   "outputs": [],
   "source": [
    "#...и выберите то значение, которое даёт наибольшее качество. \n",
    "\n",
    "#Наибольшее качество даёт alpha = 10 (MSE = 5.4 млн)"
   ]
  },
  {
   "cell_type": "markdown",
   "metadata": {},
   "source": [
    "**Задача 3.12 (0.5 балла)** Обучите итоговую Lasso-регрессию с выбранным параметром $\\alpha$ на тренировочной выборке. Выведите полученные коэффициенты и прокомментируйте, какие признаки оказались неинформативными, а какие – наиболее информативными. Приведите возможное смысловое объяснение этого результата."
   ]
  },
  {
   "cell_type": "code",
   "execution_count": 33,
   "metadata": {},
   "outputs": [
    {
     "name": "stdout",
     "output_type": "stream",
     "text": [
      "20 самых неинформативных признаков\n",
      "drive-wheels_fwd: 0.0\n",
      "engine-type_l: 0.0\n",
      "engine-type_ohc: 0.0\n",
      "engine-type_ohcf: 0.0\n",
      "fuel-system_idi: 0.0\n",
      "fuel-system_mfi: 0.0\n",
      "fuel-system_spdi: 0.0\n",
      "fuel-system_spfi: 0.0\n",
      "fuel-type_gas: 0.0\n",
      "make_chevrolet: 0.0\n",
      "make_isuzu: 0.0\n",
      "make_mazda: 0.0\n",
      "make_mercury: 0.0\n",
      "make_nissan: 0.0\n",
      "make_saab: 0.0\n",
      "num-of-cylinders_four: 0.0\n",
      "num-of-cylinders_twelve: 0.0\n",
      "normalized-losses: 16.4414\n",
      "make_volvo: 24.3388\n",
      "city-mpg: 84.8591\n"
     ]
    }
   ],
   "source": [
    "model_lasso = Lasso(alpha=10)\n",
    "model_lasso.fit(X_train, y_train)\n",
    "\n",
    "print('20 самых неинформативных признаков')\n",
    "for coef, name in sorted(zip(abs(model_lasso.coef_),X_train.columns))[:20]:\n",
    "    print(f'{name}: {coef:.6}')"
   ]
  },
  {
   "cell_type": "code",
   "execution_count": 34,
   "metadata": {},
   "outputs": [
    {
     "name": "stdout",
     "output_type": "stream",
     "text": [
      "20 самых информативных признаков\n",
      "engine-location_rear: 11348.4\n",
      "make_bmw: 6849.57\n",
      "make_porsche: 5465.16\n",
      "make_jaguar: 3872.58\n",
      "curb-weight: 3495.7\n",
      "make_mercedes-benz: 3090.75\n",
      "num-of-cylinders_three: 3011.77\n",
      "body-style_wagon: 3007.63\n",
      "body-style_hatchback: 2404.96\n",
      "make_peugot: 2390.08\n",
      "body-style_hardtop: 2387.37\n",
      "engine-size: 2078.87\n",
      "make_mitsubishi: 2000.66\n",
      "width: 1817.5\n",
      "body-style_sedan: 1778.26\n",
      "aspiration_turbo: 1562.49\n",
      "bore: 1219.08\n",
      "make_plymouth: 1155.91\n",
      "engine-type_ohcv: 1140.74\n",
      "make_dodge: 1092.26\n"
     ]
    }
   ],
   "source": [
    "print('20 самых информативных признаков')\n",
    "for coef, name in sorted(zip(abs(model_lasso.coef_),X_train.columns),reverse = True)[:20]:\n",
    "    print(f'{name}: {coef:.6}')"
   ]
  },
  {
   "cell_type": "code",
   "execution_count": 42,
   "metadata": {},
   "outputs": [
    {
     "name": "stdout",
     "output_type": "stream",
     "text": [
      "normalized-losses: 16.4414\n",
      "num-of-cylinders_twelve: 0.0\n",
      "num-of-cylinders_four: -0.0\n",
      "make_saab: 0.0\n",
      "make_nissan: 0.0\n",
      "make_mercury: -0.0\n",
      "make_mazda: 0.0\n",
      "make_isuzu: -0.0\n",
      "make_chevrolet: 0.0\n",
      "fuel-type_gas: -0.0\n",
      "fuel-system_spfi: 0.0\n",
      "fuel-system_spdi: 0.0\n",
      "fuel-system_mfi: -0.0\n",
      "fuel-system_idi: 0.0\n",
      "engine-type_ohcf: 0.0\n",
      "engine-type_ohc: 0.0\n",
      "engine-type_l: -0.0\n",
      "drive-wheels_fwd: -0.0\n",
      "city-mpg: -84.8591\n"
     ]
    }
   ],
   "source": [
    "#обнулившиеся признаки\n",
    "for coef, name in sorted(zip(model_lasso.coef_,X_train.columns),reverse = True)[20:39]:\n",
    "    print(f'{name}: {coef:.6}')"
   ]
  },
  {
   "cell_type": "code",
   "execution_count": 36,
   "metadata": {},
   "outputs": [],
   "source": [
    "#смысловое объяснение.\n",
    "#обнулились те признаки, которые:\n",
    "# - соответствуют автомобилям средней цены - например, \"число цилиндров = четыре\" или \"народные\" марки типа ниссан-мазда-шевроле\n",
    "# - не влияют на стоимость автомобиля (т.е. одинаково часто встречаются у дорогих и дешёвых авто) - например, \"две двери\" или \"степень сжатия\""
   ]
  },
  {
   "cell_type": "markdown",
   "metadata": {},
   "source": [
    "**Задача 3.13 (0.4 балла)** Сделайте предсказания обученной Lasso-регрессии на тестовой выборке и сравните среднеквадратичную ошибку с ошибкой обычной линейной регрессии из задачи 3.7. Какую модель лучше использовать для предсказаний? Приведите возможное объяснение, почему одна модель оказалась лучше другой."
   ]
  },
  {
   "cell_type": "code",
   "execution_count": 37,
   "metadata": {},
   "outputs": [
    {
     "name": "stdout",
     "output_type": "stream",
     "text": [
      "LASSO\n",
      "r2 for X_train: 0.972\n",
      "r2 for X_test : 0.864\n",
      "RMSE for X_train: 1224.3\n",
      "RMSE for X_test : 2988.6\n"
     ]
    }
   ],
   "source": [
    "train_predict = model_lasso.predict(X_train)\n",
    "test_predict = model_lasso.predict(X_test)\n",
    "\n",
    "print('LASSO')\n",
    "print(f'r2 for X_train: {r2_score(train_predict, y_train):.3}')\n",
    "print(f'r2 for X_test : {r2_score(test_predict, y_test):.3}')\n",
    "print(f'RMSE for X_train: {mean_squared_error(train_predict, y_train,squared = False):.5}')\n",
    "print(f'RMSE for X_test : {mean_squared_error(test_predict, y_test,squared = False):.5}')"
   ]
  },
  {
   "cell_type": "code",
   "execution_count": 38,
   "metadata": {},
   "outputs": [],
   "source": [
    "#Какую модель лучше использовать для предсказаний? \n",
    "# Для предсказаний лучше использовать Lasso, она точнее\n",
    "# \n",
    "# Приведите возможное объяснение, почему одна модель оказалась лучше другой.\n",
    "# Вероятно, Lasso оказалась лучше, потому что не использует \"ненужные\" признаки (другими словами - потому что \"обычная\" линейная регрессия оказалась переобученной)"
   ]
  }
 ],
 "metadata": {
  "kernelspec": {
   "display_name": "Python 3",
   "language": "python",
   "name": "python3"
  },
  "language_info": {
   "codemirror_mode": {
    "name": "ipython",
    "version": 3
   },
   "file_extension": ".py",
   "mimetype": "text/x-python",
   "name": "python",
   "nbconvert_exporter": "python",
   "pygments_lexer": "ipython3",
   "version": "3.8.10"
  }
 },
 "nbformat": 4,
 "nbformat_minor": 4
}
